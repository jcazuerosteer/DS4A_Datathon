{
 "cells": [
  {
   "cell_type": "code",
   "execution_count": 71,
   "metadata": {},
   "outputs": [],
   "source": [
    "import pandas as pd\n",
    "import geopandas as gpd\n",
    "import numpy as np\n",
    "import matplotlib.pyplot as plt\n",
    "import shapely as shp\n",
    "import geoplot\n",
    "%matplotlib inline"
   ]
  },
  {
   "cell_type": "code",
   "execution_count": 72,
   "metadata": {},
   "outputs": [],
   "source": [
    "weather_geo_demographic = gpd.read_file('weather_geo_demographic.shp')"
   ]
  },
  {
   "cell_type": "markdown",
   "metadata": {},
   "source": [
    "# Merge each dataset to weather_geo_demographic shape"
   ]
  },
  {
   "cell_type": "markdown",
   "metadata": {},
   "source": [
    "## Green Trips"
   ]
  },
  {
   "cell_type": "code",
   "execution_count": 70,
   "metadata": {},
   "outputs": [
    {
     "data": {
      "text/html": [
       "<div>\n",
       "<style scoped>\n",
       "    .dataframe tbody tr th:only-of-type {\n",
       "        vertical-align: middle;\n",
       "    }\n",
       "\n",
       "    .dataframe tbody tr th {\n",
       "        vertical-align: top;\n",
       "    }\n",
       "\n",
       "    .dataframe thead th {\n",
       "        text-align: right;\n",
       "    }\n",
       "</style>\n",
       "<table border=\"1\" class=\"dataframe\">\n",
       "  <thead>\n",
       "    <tr style=\"text-align: right;\">\n",
       "      <th></th>\n",
       "      <th>pickup_longitude</th>\n",
       "      <th>pickup_latitude</th>\n",
       "      <th>dropoff_longitude</th>\n",
       "      <th>dropoff_latitude</th>\n",
       "      <th>passenger_count</th>\n",
       "      <th>trip_distance</th>\n",
       "      <th>total_amount</th>\n",
       "      <th>pickup_dt</th>\n",
       "      <th>dropoff_dt</th>\n",
       "    </tr>\n",
       "  </thead>\n",
       "  <tbody>\n",
       "    <tr>\n",
       "      <td>0</td>\n",
       "      <td>-73.953545</td>\n",
       "      <td>40.811172</td>\n",
       "      <td>-73.984764</td>\n",
       "      <td>40.728386</td>\n",
       "      <td>1</td>\n",
       "      <td>8.11</td>\n",
       "      <td>27.8</td>\n",
       "      <td>2015-02-01 01:26:45</td>\n",
       "      <td>2015-02-01 01:49:58</td>\n",
       "    </tr>\n",
       "    <tr>\n",
       "      <td>1</td>\n",
       "      <td>-73.946709</td>\n",
       "      <td>40.714321</td>\n",
       "      <td>-73.961571</td>\n",
       "      <td>40.711475</td>\n",
       "      <td>1</td>\n",
       "      <td>1.29</td>\n",
       "      <td>9.8</td>\n",
       "      <td>2015-01-02 20:06:28</td>\n",
       "      <td>2015-01-02 20:14:04</td>\n",
       "    </tr>\n",
       "    <tr>\n",
       "      <td>2</td>\n",
       "      <td>-73.957626</td>\n",
       "      <td>40.718094</td>\n",
       "      <td>-73.947304</td>\n",
       "      <td>40.777813</td>\n",
       "      <td>5</td>\n",
       "      <td>6.12</td>\n",
       "      <td>26.3</td>\n",
       "      <td>2014-09-27 17:55:38</td>\n",
       "      <td>2014-09-27 18:19:56</td>\n",
       "    </tr>\n",
       "  </tbody>\n",
       "</table>\n",
       "</div>"
      ],
      "text/plain": [
       "   pickup_longitude  pickup_latitude  dropoff_longitude  dropoff_latitude  \\\n",
       "0        -73.953545        40.811172         -73.984764         40.728386   \n",
       "1        -73.946709        40.714321         -73.961571         40.711475   \n",
       "2        -73.957626        40.718094         -73.947304         40.777813   \n",
       "\n",
       "   passenger_count  trip_distance  total_amount           pickup_dt  \\\n",
       "0                1           8.11          27.8 2015-02-01 01:26:45   \n",
       "1                1           1.29           9.8 2015-01-02 20:06:28   \n",
       "2                5           6.12          26.3 2014-09-27 17:55:38   \n",
       "\n",
       "           dropoff_dt  \n",
       "0 2015-02-01 01:49:58  \n",
       "1 2015-01-02 20:14:04  \n",
       "2 2014-09-27 18:19:56  "
      ]
     },
     "execution_count": 70,
     "metadata": {},
     "output_type": "execute_result"
    }
   ],
   "source": [
    "green = pd.read_csv('green_trips_new_2.csv')\n",
    "green.head()\n",
    "#Transforms string to datetime\n",
    "green['pickup_dt'] = pd.to_datetime(green['pickup_datetime'],infer_datetime_format=True)\n",
    "green['dropoff_dt'] = pd.to_datetime(green['dropoff_datetime'],infer_datetime_format=True)\n",
    "green.drop(['pickup_datetime'],axis=1,inplace=True)\n",
    "green.drop(['dropoff_datetime'],axis=1,inplace=True)\n",
    "green[:3]"
   ]
  },
  {
   "cell_type": "code",
   "execution_count": 73,
   "metadata": {},
   "outputs": [
    {
     "data": {
      "text/html": [
       "<div>\n",
       "<style scoped>\n",
       "    .dataframe tbody tr th:only-of-type {\n",
       "        vertical-align: middle;\n",
       "    }\n",
       "\n",
       "    .dataframe tbody tr th {\n",
       "        vertical-align: top;\n",
       "    }\n",
       "\n",
       "    .dataframe thead th {\n",
       "        text-align: right;\n",
       "    }\n",
       "</style>\n",
       "<table border=\"1\" class=\"dataframe\">\n",
       "  <thead>\n",
       "    <tr style=\"text-align: right;\">\n",
       "      <th></th>\n",
       "      <th>pickup_longitude</th>\n",
       "      <th>pickup_latitude</th>\n",
       "      <th>dropoff_longitude</th>\n",
       "      <th>dropoff_latitude</th>\n",
       "      <th>passenger_count</th>\n",
       "      <th>trip_distance</th>\n",
       "      <th>total_amount</th>\n",
       "      <th>pickup_dt</th>\n",
       "      <th>dropoff_dt</th>\n",
       "      <th>geometry</th>\n",
       "    </tr>\n",
       "  </thead>\n",
       "  <tbody>\n",
       "    <tr>\n",
       "      <td>0</td>\n",
       "      <td>-73.953545</td>\n",
       "      <td>40.811172</td>\n",
       "      <td>-73.984764</td>\n",
       "      <td>40.728386</td>\n",
       "      <td>1</td>\n",
       "      <td>8.11</td>\n",
       "      <td>27.8</td>\n",
       "      <td>2015-02-01 01:26:45</td>\n",
       "      <td>2015-02-01 01:49:58</td>\n",
       "      <td>POINT (-73.95354 40.81117)</td>\n",
       "    </tr>\n",
       "    <tr>\n",
       "      <td>1</td>\n",
       "      <td>-73.946709</td>\n",
       "      <td>40.714321</td>\n",
       "      <td>-73.961571</td>\n",
       "      <td>40.711475</td>\n",
       "      <td>1</td>\n",
       "      <td>1.29</td>\n",
       "      <td>9.8</td>\n",
       "      <td>2015-01-02 20:06:28</td>\n",
       "      <td>2015-01-02 20:14:04</td>\n",
       "      <td>POINT (-73.94671 40.71432)</td>\n",
       "    </tr>\n",
       "    <tr>\n",
       "      <td>2</td>\n",
       "      <td>-73.957626</td>\n",
       "      <td>40.718094</td>\n",
       "      <td>-73.947304</td>\n",
       "      <td>40.777813</td>\n",
       "      <td>5</td>\n",
       "      <td>6.12</td>\n",
       "      <td>26.3</td>\n",
       "      <td>2014-09-27 17:55:38</td>\n",
       "      <td>2014-09-27 18:19:56</td>\n",
       "      <td>POINT (-73.95763 40.71809)</td>\n",
       "    </tr>\n",
       "  </tbody>\n",
       "</table>\n",
       "</div>"
      ],
      "text/plain": [
       "   pickup_longitude  pickup_latitude  dropoff_longitude  dropoff_latitude  \\\n",
       "0        -73.953545        40.811172         -73.984764         40.728386   \n",
       "1        -73.946709        40.714321         -73.961571         40.711475   \n",
       "2        -73.957626        40.718094         -73.947304         40.777813   \n",
       "\n",
       "   passenger_count  trip_distance  total_amount           pickup_dt  \\\n",
       "0                1           8.11          27.8 2015-02-01 01:26:45   \n",
       "1                1           1.29           9.8 2015-01-02 20:06:28   \n",
       "2                5           6.12          26.3 2014-09-27 17:55:38   \n",
       "\n",
       "           dropoff_dt                    geometry  \n",
       "0 2015-02-01 01:49:58  POINT (-73.95354 40.81117)  \n",
       "1 2015-01-02 20:14:04  POINT (-73.94671 40.71432)  \n",
       "2 2014-09-27 18:19:56  POINT (-73.95763 40.71809)  "
      ]
     },
     "execution_count": 73,
     "metadata": {},
     "output_type": "execute_result"
    }
   ],
   "source": [
    "green['geometry'] = green.apply(lambda row: \n",
    "                    shp.geometry.Point(row['pickup_longitude'],row['pickup_latitude']),axis=1)\n",
    "green = gpd.GeoDataFrame(green)\n",
    "green.crs = {'init' :'epsg:4326'}\n",
    "#green.drop(['pickup_longitude','pickup_latitude'],axis=1,inplace=True)\n",
    "green[:3]"
   ]
  },
  {
   "cell_type": "code",
   "execution_count": 74,
   "metadata": {
    "scrolled": true
   },
   "outputs": [
    {
     "data": {
      "text/html": [
       "<div>\n",
       "<style scoped>\n",
       "    .dataframe tbody tr th:only-of-type {\n",
       "        vertical-align: middle;\n",
       "    }\n",
       "\n",
       "    .dataframe tbody tr th {\n",
       "        vertical-align: top;\n",
       "    }\n",
       "\n",
       "    .dataframe thead th {\n",
       "        text-align: right;\n",
       "    }\n",
       "</style>\n",
       "<table border=\"1\" class=\"dataframe\">\n",
       "  <thead>\n",
       "    <tr style=\"text-align: right;\">\n",
       "      <th></th>\n",
       "      <th>pickup_longitude</th>\n",
       "      <th>pickup_latitude</th>\n",
       "      <th>dropoff_longitude</th>\n",
       "      <th>dropoff_latitude</th>\n",
       "      <th>passenger_count</th>\n",
       "      <th>trip_distance</th>\n",
       "      <th>total_amount</th>\n",
       "      <th>pickup_dt</th>\n",
       "      <th>dropoff_dt</th>\n",
       "      <th>geometry</th>\n",
       "      <th>nta_code</th>\n",
       "      <th>WeatherSta</th>\n",
       "    </tr>\n",
       "  </thead>\n",
       "  <tbody>\n",
       "    <tr>\n",
       "      <td>0</td>\n",
       "      <td>-73.953545</td>\n",
       "      <td>40.811172</td>\n",
       "      <td>-73.984764</td>\n",
       "      <td>40.728386</td>\n",
       "      <td>1</td>\n",
       "      <td>8.11</td>\n",
       "      <td>27.8</td>\n",
       "      <td>2015-02-01 01:26:45</td>\n",
       "      <td>2015-02-01 01:49:58</td>\n",
       "      <td>POINT (-73.95354 40.81117)</td>\n",
       "      <td>MN09</td>\n",
       "      <td>CP</td>\n",
       "    </tr>\n",
       "    <tr>\n",
       "      <td>39</td>\n",
       "      <td>-73.962082</td>\n",
       "      <td>40.805218</td>\n",
       "      <td>-73.943817</td>\n",
       "      <td>40.810223</td>\n",
       "      <td>1</td>\n",
       "      <td>2.10</td>\n",
       "      <td>11.8</td>\n",
       "      <td>2015-03-31 16:02:29</td>\n",
       "      <td>2015-03-31 16:15:25</td>\n",
       "      <td>POINT (-73.96208 40.80522)</td>\n",
       "      <td>MN09</td>\n",
       "      <td>CP</td>\n",
       "    </tr>\n",
       "    <tr>\n",
       "      <td>41</td>\n",
       "      <td>-73.962128</td>\n",
       "      <td>40.805443</td>\n",
       "      <td>-73.987343</td>\n",
       "      <td>40.770370</td>\n",
       "      <td>1</td>\n",
       "      <td>3.10</td>\n",
       "      <td>15.0</td>\n",
       "      <td>2014-06-02 16:00:23</td>\n",
       "      <td>2014-06-02 16:12:52</td>\n",
       "      <td>POINT (-73.96213 40.80544)</td>\n",
       "      <td>MN09</td>\n",
       "      <td>CP</td>\n",
       "    </tr>\n",
       "  </tbody>\n",
       "</table>\n",
       "</div>"
      ],
      "text/plain": [
       "    pickup_longitude  pickup_latitude  dropoff_longitude  dropoff_latitude  \\\n",
       "0         -73.953545        40.811172         -73.984764         40.728386   \n",
       "39        -73.962082        40.805218         -73.943817         40.810223   \n",
       "41        -73.962128        40.805443         -73.987343         40.770370   \n",
       "\n",
       "    passenger_count  trip_distance  total_amount           pickup_dt  \\\n",
       "0                 1           8.11          27.8 2015-02-01 01:26:45   \n",
       "39                1           2.10          11.8 2015-03-31 16:02:29   \n",
       "41                1           3.10          15.0 2014-06-02 16:00:23   \n",
       "\n",
       "            dropoff_dt                    geometry nta_code WeatherSta  \n",
       "0  2015-02-01 01:49:58  POINT (-73.95354 40.81117)     MN09         CP  \n",
       "39 2015-03-31 16:15:25  POINT (-73.96208 40.80522)     MN09         CP  \n",
       "41 2014-06-02 16:12:52  POINT (-73.96213 40.80544)     MN09         CP  "
      ]
     },
     "execution_count": 74,
     "metadata": {},
     "output_type": "execute_result"
    }
   ],
   "source": [
    "Green_NTA = gpd.sjoin(green,weather_geo_demographic[['nta_code','WeatherSta','geometry']], how='inner', op='intersects') \n",
    "del Green_NTA['index_right']\n",
    "#del Green_NTA['pickup_latitude']\n",
    "#del Green_NTA['pickup_longitude']\n",
    "len(Green_NTA)\n",
    "Green_NTA[:3]"
   ]
  },
  {
   "cell_type": "code",
   "execution_count": null,
   "metadata": {},
   "outputs": [],
   "source": [
    "Green_NTA.to_file('Green_NTA.shp')"
   ]
  },
  {
   "cell_type": "markdown",
   "metadata": {},
   "source": [
    "## Yellow Trips"
   ]
  },
  {
   "cell_type": "code",
   "execution_count": null,
   "metadata": {},
   "outputs": [],
   "source": [
    "yellow = pd.read_csv('yellow_trips_new.csv')\n",
    "#Transforms string to datetime\n",
    "yellow['pickup_dt'] = pd.to_datetime(yellow['pickup_datetime'],infer_datetime_format=True)\n",
    "yellow['dropoff_dt'] = pd.to_datetime(yellow['dropoff_datetime'],infer_datetime_format=True)\n",
    "yellow.drop(['pickup_datetime'],axis=1,inplace=True)\n",
    "yellow.drop(['dropoff_datetime'],axis=1,inplace=True)\n",
    "yellow[:3]"
   ]
  },
  {
   "cell_type": "code",
   "execution_count": null,
   "metadata": {},
   "outputs": [],
   "source": [
    "yellow['geometry'] = yellow.apply(lambda row: \n",
    "                    shp.geometry.Point(row['pickup_longitude'],row['pickup_latitude']),axis=1)\n",
    "yellow = gpd.GeoDataFrame(yellow)\n",
    "yellow.crs = {'init' :'epsg:4326'}\n",
    "#yellow.drop(['pickup_longitude','pickup_latitude'],axis=1,inplace=True)\n",
    "yellow[:3]"
   ]
  },
  {
   "cell_type": "code",
   "execution_count": null,
   "metadata": {},
   "outputs": [],
   "source": [
    "Yellow_NTA = gpd.sjoin(yellow[:100],weather_geo_demographic[['nta_code','WeatherSta','geometry']], how='inner', op='intersects') \n",
    "del Yellow_NTA['index_right']\n",
    "#del Yellow_NTA['pickup_latitude']\n",
    "#del Yellow_NTA['pickup_longitude']\n",
    "len(Yellow_NTA)\n",
    "Yellow_NTA[:3]"
   ]
  },
  {
   "cell_type": "code",
   "execution_count": 16,
   "metadata": {},
   "outputs": [],
   "source": [
    "Yellow_NTA.to_file('Yellow_NTA.shp')"
   ]
  },
  {
   "cell_type": "markdown",
   "metadata": {},
   "source": [
    "## MTA Trips"
   ]
  },
  {
   "cell_type": "code",
   "execution_count": null,
   "metadata": {},
   "outputs": [],
   "source": [
    "mta = pd.read_csv('mta_trips.csv')\n",
    "mta.head()\n",
    "#Transforms string to datetime\n",
    "mta['dt'] = pd.to_datetime(mta['datetime'],infer_datetime_format=True)\n",
    "mta.drop(['datetime'],axis=1,inplace=True)\n",
    "mta[:3]"
   ]
  },
  {
   "cell_type": "code",
   "execution_count": null,
   "metadata": {},
   "outputs": [],
   "source": [
    "mta['geometry'] = mta.apply(lambda row: \n",
    "                    shp.geometry.Point(row['longitude'],row['latitude']),axis=1)\n",
    "mta = gpd.GeoDataFrame(mta)\n",
    "mta.crs = {'init' :'epsg:4326'}\n",
    "#mta.drop(['longitude','latitude'],axis=1,inplace=True)\n",
    "mta[:10]"
   ]
  },
  {
   "cell_type": "code",
   "execution_count": null,
   "metadata": {},
   "outputs": [],
   "source": [
    "MTA_NTA = gpd.sjoin(mta[:100],weather_geo_demographic[['nta_code','WeatherSta','geometry']], how='inner', op='intersects') \n",
    "del MTA_NTA['index_right']\n",
    "#del MTA_NTA['latitude']\n",
    "#del MTA_NTA['longitude']\n",
    "len(MTA_NTA)\n",
    "MTA_NTA[:3]"
   ]
  },
  {
   "cell_type": "code",
   "execution_count": null,
   "metadata": {},
   "outputs": [],
   "source": [
    "MTA_NTA.to_file('MTA_NTA.shp')"
   ]
  }
 ],
 "metadata": {
  "kernelspec": {
   "display_name": "Python 3",
   "language": "python",
   "name": "python3"
  },
  "language_info": {
   "codemirror_mode": {
    "name": "ipython",
    "version": 3
   },
   "file_extension": ".py",
   "mimetype": "text/x-python",
   "name": "python",
   "nbconvert_exporter": "python",
   "pygments_lexer": "ipython3",
   "version": "3.7.3"
  }
 },
 "nbformat": 4,
 "nbformat_minor": 2
}
